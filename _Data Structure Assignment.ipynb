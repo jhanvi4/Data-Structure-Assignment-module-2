{
 "cells": [
  {
   "cell_type": "raw",
   "id": "4eeb8a23",
   "metadata": {},
   "source": [
    "Q1. Discuss the string slicing and provide example?"
   ]
  },
  {
   "cell_type": "code",
   "execution_count": 5,
   "id": "8fbec04b",
   "metadata": {},
   "outputs": [
    {
     "name": "stdout",
     "output_type": "stream",
     "text": [
      "Hello\n",
      "Hlo ol\n",
      "Hello\n",
      "World!\n",
      "World\n",
      "!dlroW ,olleH\n"
     ]
    }
   ],
   "source": [
    "'''Ans1.String slicing in Python allows you to extract a portion of a string by specifying a start and end index. It follows the format string[start:end], where start is the index where slicing begins (inclusive) and end is the index where it ends (exclusive).\n",
    "\n",
    "EXAMPLE: substring = string[start:stop:step]'''\n",
    "\n",
    "\n",
    "#Basic Slicing\n",
    "text = \"Hello, World!\"\n",
    "substring = text[0:5]  # Extracts from index 0 to 4 (5 is exclusive)\n",
    "print(substring)  # Output: \"Hello\"\n",
    "\n",
    "\n",
    "#Slicing with Step\n",
    "text = \"Hello, World!\"\n",
    "substring = text[0:12:2]  # Extracts from index 0 to 11 with a step of 2\n",
    "print(substring)  # Output: \"Hlo ol\"\n",
    "\n",
    "\n",
    "#Omitting Start and Stop\n",
    "text = \"Hello, World!\"\n",
    "substring1 = text[:5]  # From the beginning to index 4\n",
    "substring2 = text[7:]  # From index 7 to the end\n",
    "print(substring1)  # Output: \"Hello\"\n",
    "print(substring2)  # Output: \"World!\"\n",
    "\n",
    "\n",
    "#Negative Indices\n",
    "text = \"Hello, World!\"\n",
    "substring = text[-6:-1]  # Extracts from index -6 to -2 (inclusive of -6, exclusive of -1)\n",
    "print(substring)  # Output: \"World\"\n",
    "\n",
    "\n",
    "#Reversing a String\n",
    "text = \"Hello, World!\"\n",
    "reversed_text = text[::-1]  # Steps backwards through the entire string\n",
    "print(reversed_text)  # Output: \"!dlroW ,olleH\""
   ]
  },
  {
   "cell_type": "raw",
   "id": "ddfb9968",
   "metadata": {},
   "source": [
    "Q2."
   ]
  },
  {
   "cell_type": "code",
   "execution_count": 6,
   "id": "98e93a31",
   "metadata": {},
   "outputs": [
    {
     "name": "stdout",
     "output_type": "stream",
     "text": [
      "hello\n",
      "[1, 'hello', 2.71, [2, 3], True]\n",
      "[1, 'hello', 2.71, [2, 3], True, 'world']\n",
      "['hello', 2.71, [2, 3]]\n",
      "[1, 2.71, [2, 3], True, 'world']\n"
     ]
    }
   ],
   "source": [
    "'''Ans2.\n",
    "\n",
    "1.Ordered Collection: Lists maintain the order of elements. This means that the position of each element is preserved, and you can access elements by their index, with the first element being at index 0.\n",
    "\n",
    "2.Mutable: Lists are mutable, meaning you can change their content after they are created. You can modify, add, or remove elements.\n",
    "\n",
    "3.Dynamic Size: Lists can grow and shrink in size as needed. You don't need to specify the number of elements in advance.\n",
    "\n",
    "4.Heterogeneous Elements: Lists can contain elements of different types. For example, you can have integers, strings, and even other lists as elements within a single list.\n",
    "\n",
    "5.Indexed and Sliced: Elements in a list can be accessed using their index, and you can also use slicing to access a sublist. For example, (my_list[1:4]) would give you a sublist containing elements from index 1 to 3.\n",
    "\n",
    "6.Methods: Lists come with a variety of built-in methods to perform operations like adding (append, extend), removing (remove, pop), or finding elements (index, count).'''\n",
    "\n",
    "\n",
    "\n",
    "# Creating a list\n",
    "my_list = [1, 'hello', 3.14, [2, 3], True]\n",
    "\n",
    "# Accessing elements by index\n",
    "print(my_list[1])  # Output: hello\n",
    "\n",
    "# Modifying an element\n",
    "my_list[2] = 2.71\n",
    "print(my_list)  # Output: [1, 'hello', 2.71, [2, 3], True]\n",
    "\n",
    "# Adding an element\n",
    "my_list.append('world')\n",
    "print(my_list)  # Output: [1, 'hello', 2.71, [2, 3], True, 'world']\n",
    "\n",
    "# Slicing the list\n",
    "print(my_list[1:4])  # Output: ['hello', 2.71, [2, 3]]\n",
    "\n",
    "# Removing an element\n",
    "my_list.remove('hello')\n",
    "print(my_list)  # Output: [1, 2.71, [2, 3], True, 'world']"
   ]
  },
  {
   "cell_type": "code",
   "execution_count": null,
   "id": "87fab9c4",
   "metadata": {},
   "outputs": [],
   "source": [
    "Q3.Describe how to access , modify , and delete elements in a list with examples."
   ]
  },
  {
   "cell_type": "code",
   "execution_count": 7,
   "id": "a826acac",
   "metadata": {},
   "outputs": [
    {
     "name": "stdout",
     "output_type": "stream",
     "text": [
      "hello\n",
      "[1, 'hello', 2.71, [2, 3], True]\n",
      "[1, 2.71, [2, 3], True]\n",
      "[10, 3.14, [1, 2], 'apple']\n"
     ]
    }
   ],
   "source": [
    "# Creating a list\n",
    "my_list = [1, 'hello', 3.14, [2, 3], True]\n",
    "\n",
    "# Accessing elements by index\n",
    "print(my_list[1])  # Output: hello\n",
    "\n",
    "# Modifying an element\n",
    "my_list[2] = 2.71\n",
    "print(my_list)  # Output: [1, 'hello', 2.71, [2, 3], True]\n",
    "\n",
    "# Deleting the element at index 1\n",
    "del my_list[1]\n",
    "print(my_list)  # Output: [10, 3.14, [1, 2], True]\n",
    "\n",
    "# Removing the first occurrence of 'apple'\n",
    "my_list = [10, 'apple', 3.14, [1, 2], 'apple']\n",
    "my_list.remove('apple')\n",
    "print(my_list)  # Output: [10, 3.14, [1, 2], 'apple']\n"
   ]
  },
  {
   "cell_type": "raw",
   "id": "b804695e",
   "metadata": {},
   "source": [
    "Q4.Compare and contrast tuples and lists with examples?"
   ]
  },
  {
   "cell_type": "raw",
   "id": "727aefc7",
   "metadata": {},
   "source": [
    "'''Ans.\n",
    "Similarities:\n",
    "Both can store multiple items: Tuples and lists can hold items of different types, including other tuples or lists.\n",
    "Indexing and Slicing: Both support indexing (accessing elements by position) and slicing (accessing a subset of elements).\n",
    "Iteration: You can iterate over both tuples and lists using loops.'''\n",
    "\n",
    "\n",
    "#Differences:\n",
    "\n",
    "#Mutability:\n",
    "\n",
    "#List: Mutable (you can change, add, or remove elements).\n",
    "my_list = [1, 2, 3]\n",
    "my_list[0] = 10   # Modify an element\n",
    "my_list.append(4) # Add an element\n",
    "\n",
    "\n",
    "#Tuple: Immutable (once created, you cannot modify, add, or remove elements).\n",
    "my_tuple = (1, 2, 3)\n",
    "# my_tuple[0] = 10  # This will raise an error\n",
    "\n",
    "#Methods\n",
    "#List: Has various methods like append(), extend(), remove(), and pop().\n",
    "my_list = [1, 2, 3]\n",
    "my_list.append(4)   # [1, 2, 3, 4]\n",
    "my_list.remove(2)   # [1, 3, 4]\n",
    "\n",
    "#Tuple: Has fewer methods. Common methods include count() and index().\n",
    "my_tuple = (1, 2, 2, 3)\n",
    "my_tuple.count(2)   # 2\n",
    "my_tuple.index(3)   # 3"
   ]
  },
  {
   "cell_type": "raw",
   "id": "dd181023",
   "metadata": {},
   "source": [
    "Q5.Describe the key features of sets and provide examples of their use?"
   ]
  },
  {
   "cell_type": "code",
   "execution_count": 5,
   "id": "f9b3125d",
   "metadata": {},
   "outputs": [
    {
     "name": "stdout",
     "output_type": "stream",
     "text": [
      "{1, 2, 3, 4}\n",
      "{'cherry', 'apple', 'banana'}\n",
      "{1, 3, 4}\n"
     ]
    }
   ],
   "source": [
    "#Key Features of Sets:\n",
    "    \n",
    "#Uniqueness:\n",
    "#Sets automatically eliminate duplicate elements. Each element in a set is unique.\n",
    "\n",
    "numbers = {1, 2, 2, 3, 4, 4}\n",
    "print(numbers)  # Output: {1, 2, 3, 4}\n",
    "\n",
    "#Unordered:\n",
    "#Sets do not maintain any order of elements. The elements may not appear in the order they were added.\n",
    "fruits = {\"apple\", \"banana\", \"cherry\"}\n",
    "print(fruits)  # Output may vary: {'banana', 'apple', 'cherry'}\n",
    "\n",
    "#Mutable:\n",
    "#Sets are mutable, meaning you can add or remove elements after the set is created.\n",
    "\n",
    "my_set = {1, 2, 3}\n",
    "my_set.add(4)     # Adding an element\n",
    "my_set.remove(2)  # Removing an element\n",
    "print(my_set)     # Output: {1, 3, 4}\n",
    "\n",
    "#No Indexing:\n",
    "#Since sets are unordered, they do not support indexing, slicing, or other sequence-like behaviors.\n",
    "my_set = {1, 2, 3}\n",
    "# my_set[0]  # This will raise an errorAns."
   ]
  },
  {
   "cell_type": "code",
   "execution_count": null,
   "id": "668d8eee",
   "metadata": {},
   "outputs": [],
   "source": [
    "Q6.Discuss the use cases of tuples and sets in Python programming?"
   ]
  },
  {
   "cell_type": "code",
   "execution_count": 6,
   "id": "558256cc",
   "metadata": {},
   "outputs": [
    {
     "name": "stdout",
     "output_type": "stream",
     "text": [
      "(1, 9)\n",
      "{1, 2, 3, 4, 5}\n",
      "True\n",
      "False\n",
      "{104, 101, 102, 103}\n",
      "Item found\n"
     ]
    }
   ],
   "source": [
    "#Ans.\n",
    "#Use Cases of Tuples\n",
    "\n",
    "#Fixed Data Structure:\n",
    "coordinates = (40.7128, -74.0060)  # Latitude and Longitude\n",
    "color = (255, 0, 0)  # RGB for Red\n",
    "\n",
    "#Return Multiple Values from a Function:\n",
    "def min_max(numbers):\n",
    "    return (min(numbers), max(numbers))\n",
    "result = min_max([3, 5, 1, 9, 7])\n",
    "print(result)  # Output: (1, 9)\n",
    "\n",
    "#Data Integrity:\n",
    "coordinates_set = set()\n",
    "coordinates_set.add((40.7128, -74.0060))\n",
    "\n",
    "#Removing Duplicates:\n",
    "numbers = [1, 2, 2, 3, 4, 4, 5]\n",
    "unique_numbers = set(numbers)\n",
    "print(unique_numbers)  # Output: {1, 2, 3, 4, 5}\n",
    "\n",
    "#Membership Testing:\n",
    "allowed_users = {\"alice\", \"bob\", \"charlie\"}\n",
    "print(\"alice\" in allowed_users)  # Output: True\n",
    "print(\"david\" in allowed_users)  # Output: False\n",
    "\n",
    "#Set Operations:\n",
    "set1 = {1, 2, 3, 4}\n",
    "set2 = {3, 4, 5, 6}\n",
    "\n",
    "#union_set = set1 | set2              # {1, 2, 3, 4, 5, 6}\n",
    "intersection_set = set1 & set2       # {3, 4}\n",
    "difference_set = set1 - set2         # {1, 2}\n",
    "symmetric_difference_set = set1 ^ set2 # {1, 2, 5, 6}\n",
    "\n",
    "#Data Deduplication:\n",
    "user_ids = {101, 102, 103, 101, 104}\n",
    "print(user_ids)  # Output: {101, 102, 103, 104}\n",
    "\n",
    "#Fast Membership Testing and Insertion:\n",
    "cache = set()\n",
    "cache.add(\"item1\")\n",
    "if \"item1\" in cache:\n",
    "    print(\"Item found\")"
   ]
  },
  {
   "cell_type": "raw",
   "id": "2aa9a696",
   "metadata": {},
   "source": [
    "Q7.Describe how to add , modify, and delete items in a dictionary with examples?"
   ]
  },
  {
   "cell_type": "code",
   "execution_count": 7,
   "id": "a4151896",
   "metadata": {},
   "outputs": [
    {
     "name": "stdout",
     "output_type": "stream",
     "text": [
      "{'name': 'Alice', 'age': 25, 'city': 'New York', 'job': 'Engineer'}\n",
      "{'name': 'Alice', 'age': 26, 'city': 'San Francisco'}\n",
      "{'name': 'Alice', 'age': 25}\n"
     ]
    }
   ],
   "source": [
    "#ANS.\n",
    "##Adding Items to a Dictionary\n",
    "# Initial dictionary\n",
    "person = {\"name\": \"Alice\", \"age\": 25}\n",
    "# Adding multiple key-value pairs\n",
    "person.update({\"city\": \"New York\", \"job\": \"Engineer\"})\n",
    "print(person)\n",
    "# Output: {'name': 'Alice', 'age': 25, 'city': 'New York', 'job': 'Engineer'}\n",
    "\n",
    "\n",
    "##Modifying Items in a Dictionary\n",
    "# Initial dictionary\n",
    "person = {\"name\": \"Alice\", \"age\": 25, \"city\": \"New York\"}\n",
    "# Modifying an existing key's value\n",
    "person[\"age\"] = 26\n",
    "person[\"city\"] = \"San Francisco\"\n",
    "print(person)\n",
    "# Output: {'name': 'Alice', 'age': 26, 'city': 'San Francisco'}\n",
    "\n",
    "\n",
    "##Deleting Items from a Dictionary\n",
    "#Initial dictionary\n",
    "person = {\"name\": \"Alice\", \"age\": 25, \"city\": \"New York\"}\n",
    "#Deleting a key-value pair\n",
    "del person[\"city\"]\n",
    "print(person)\n",
    "# Output: {'name': 'Alice', 'age': 25}\n",
    "\n"
   ]
  },
  {
   "cell_type": "raw",
   "id": "0e497830",
   "metadata": {},
   "source": [
    "Q8.Discuss the importance of dictionary keys being immutable and provide examples?"
   ]
  },
  {
   "cell_type": "code",
   "execution_count": 12,
   "id": "f6644ccd",
   "metadata": {},
   "outputs": [
    {
     "name": "stdout",
     "output_type": "stream",
     "text": [
      "fruit basket\n",
      "Alice\n",
      "point\n",
      "integer\n",
      "pi\n",
      "unhashable type: 'list'\n",
      "unhashable type: 'set'\n"
     ]
    }
   ],
   "source": [
    "#ANS.\n",
    "##Importance of Immutable Dictionary Keys\n",
    "#Consistency and Reliability:\n",
    "my_dict = {}\n",
    "key = [1, 2, 3]  # A mutable list, not allowed as a key\n",
    "# my_dict[key] = 'value'  # This would raise a TypeError\n",
    "\n",
    "#Hashing\n",
    "#Immutable key example\n",
    "\n",
    "my_dict = {('apple', 'orange'): 'fruit basket'}\n",
    "print(my_dict[('apple', 'orange')])  # Output: fruit basket\n",
    "\n",
    "##Examples of Immutable vs. Mutable Keys\n",
    "#Immutable\n",
    "\n",
    "#Strings:\n",
    "my_dict = {\"name\": \"Alice\", \"age\": 30}\n",
    "print(my_dict[\"name\"])  # Output: Alice\n",
    "\n",
    "#Tuples:\n",
    "my_dict = {(1, 2): \"point\", (3, 4): \"another point\"}\n",
    "print(my_dict[(1, 2)])  # Output: point\n",
    "\n",
    "#Integers and Floats:\n",
    "my_dict = {1: \"integer\", 3.14: \"pi\"}\n",
    "print(my_dict[1])     # Output: integer\n",
    "print(my_dict[3.14])  # Output: pi\n",
    "\n",
    "\n",
    "##Mutable Keys (Not Allowed):\n",
    "#Lists:\n",
    "try:\n",
    "    my_dict = {}\n",
    "    key = [1, 2, 3]  # Lists are mutable\n",
    "    my_dict[key] = 'value'\n",
    "except TypeError as e:\n",
    "    print(e)  # Output: unhashable type: 'list'\n",
    "\n",
    "#Sets:\n",
    "try:\n",
    "    my_dict = {}\n",
    "    key = {1, 2, 3}  # Sets are mutable\n",
    "    my_dict[key] = 'value'\n",
    "except TypeError as e:\n",
    "    print(e)  # Output: unhashable type: 'set'\n"
   ]
  },
  {
   "cell_type": "code",
   "execution_count": null,
   "id": "7fd26fa9",
   "metadata": {},
   "outputs": [],
   "source": []
  }
 ],
 "metadata": {
  "kernelspec": {
   "display_name": "Python 3 (ipykernel)",
   "language": "python",
   "name": "python3"
  },
  "language_info": {
   "codemirror_mode": {
    "name": "ipython",
    "version": 3
   },
   "file_extension": ".py",
   "mimetype": "text/x-python",
   "name": "python",
   "nbconvert_exporter": "python",
   "pygments_lexer": "ipython3",
   "version": "3.10.8"
  }
 },
 "nbformat": 4,
 "nbformat_minor": 5
}
